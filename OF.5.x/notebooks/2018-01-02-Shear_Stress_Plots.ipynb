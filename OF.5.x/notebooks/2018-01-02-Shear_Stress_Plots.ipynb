{
 "cells": [
  {
   "cell_type": "code",
   "execution_count": 28,
   "metadata": {},
   "outputs": [
    {
     "name": "stdout",
     "output_type": "stream",
     "text": [
      "The autoreload extension is already loaded. To reload it, use:\n",
      "  %reload_ext autoreload\n"
     ]
    }
   ],
   "source": [
    "import os\n",
    "import sys\n",
    "\n",
    "import pandas as pd\n",
    "import numpy as np\n",
    "import matplotlib.pyplot as plt\n",
    "\n",
    "sys.path.append('../code')\n",
    "\n",
    "import SampleUtilities as su\n",
    "\n",
    "%matplotlib inline\n",
    "%load_ext autoreload\n",
    "%autoreload 2"
   ]
  },
  {
   "cell_type": "code",
   "execution_count": 64,
   "metadata": {},
   "outputs": [
    {
     "data": {
      "text/plain": [
       "True"
      ]
     },
     "execution_count": 64,
     "metadata": {},
     "output_type": "execute_result"
    }
   ],
   "source": [
    "modeling_path = '/data/QueensFlume'\n",
    "sub_path = '20.cm'\n",
    "model = 'dune.100z.30r.colebrook.yp.0.45'\n",
    "\n",
    "full_path = os.path.join(modeling_path, sub_path, model)\n",
    "\n",
    "os.path.exists(full_path)"
   ]
  },
  {
   "cell_type": "code",
   "execution_count": 69,
   "metadata": {},
   "outputs": [],
   "source": [
    "flow = su.getFlowParametersAlongLine(full_path, SamplePathPrefix='Dune6_12', timestep='60', params={'k':1, 'nut':3,'omega':2})"
   ]
  },
  {
   "cell_type": "code",
   "execution_count": 70,
   "metadata": {},
   "outputs": [
    {
     "data": {
      "text/html": [
       "<div>\n",
       "<style scoped>\n",
       "    .dataframe tbody tr th:only-of-type {\n",
       "        vertical-align: middle;\n",
       "    }\n",
       "\n",
       "    .dataframe tbody tr th {\n",
       "        vertical-align: top;\n",
       "    }\n",
       "\n",
       "    .dataframe thead th {\n",
       "        text-align: right;\n",
       "    }\n",
       "</style>\n",
       "<table border=\"1\" class=\"dataframe\">\n",
       "  <thead>\n",
       "    <tr style=\"text-align: right;\">\n",
       "      <th></th>\n",
       "      <th>dUxdz</th>\n",
       "      <th>nut</th>\n",
       "      <th>k</th>\n",
       "      <th>omega</th>\n",
       "      <th>yref</th>\n",
       "      <th>mududy</th>\n",
       "      <th>rhonutdudy</th>\n",
       "      <th>nueffdudy</th>\n",
       "      <th>yplus</th>\n",
       "    </tr>\n",
       "  </thead>\n",
       "  <tbody>\n",
       "    <tr>\n",
       "      <th>count</th>\n",
       "      <td>103.000000</td>\n",
       "      <td>103.000000</td>\n",
       "      <td>103.000000</td>\n",
       "      <td>103.000000</td>\n",
       "      <td>103.000000</td>\n",
       "      <td>103.000000</td>\n",
       "      <td>103.000000</td>\n",
       "      <td>103.000000</td>\n",
       "      <td>103.000000</td>\n",
       "    </tr>\n",
       "    <tr>\n",
       "      <th>mean</th>\n",
       "      <td>40.209824</td>\n",
       "      <td>0.000337</td>\n",
       "      <td>0.002903</td>\n",
       "      <td>142.252042</td>\n",
       "      <td>0.031412</td>\n",
       "      <td>0.040210</td>\n",
       "      <td>0.649638</td>\n",
       "      <td>0.689848</td>\n",
       "      <td>1246.254544</td>\n",
       "    </tr>\n",
       "    <tr>\n",
       "      <th>std</th>\n",
       "      <td>133.486644</td>\n",
       "      <td>0.000256</td>\n",
       "      <td>0.000467</td>\n",
       "      <td>446.894828</td>\n",
       "      <td>0.033369</td>\n",
       "      <td>0.133487</td>\n",
       "      <td>0.188414</td>\n",
       "      <td>0.265682</td>\n",
       "      <td>1323.873609</td>\n",
       "    </tr>\n",
       "    <tr>\n",
       "      <th>min</th>\n",
       "      <td>0.000000</td>\n",
       "      <td>0.000001</td>\n",
       "      <td>0.001803</td>\n",
       "      <td>2.424150</td>\n",
       "      <td>0.000000</td>\n",
       "      <td>0.000000</td>\n",
       "      <td>0.000000</td>\n",
       "      <td>0.000000</td>\n",
       "      <td>0.000000</td>\n",
       "    </tr>\n",
       "    <tr>\n",
       "      <th>25%</th>\n",
       "      <td>1.411035</td>\n",
       "      <td>0.000071</td>\n",
       "      <td>0.002588</td>\n",
       "      <td>5.940130</td>\n",
       "      <td>0.005089</td>\n",
       "      <td>0.001411</td>\n",
       "      <td>0.541854</td>\n",
       "      <td>0.544008</td>\n",
       "      <td>201.915725</td>\n",
       "    </tr>\n",
       "    <tr>\n",
       "      <th>50%</th>\n",
       "      <td>1.568300</td>\n",
       "      <td>0.000333</td>\n",
       "      <td>0.002910</td>\n",
       "      <td>9.569940</td>\n",
       "      <td>0.017960</td>\n",
       "      <td>0.001568</td>\n",
       "      <td>0.679777</td>\n",
       "      <td>0.687692</td>\n",
       "      <td>712.536148</td>\n",
       "    </tr>\n",
       "    <tr>\n",
       "      <th>75%</th>\n",
       "      <td>9.908490</td>\n",
       "      <td>0.000584</td>\n",
       "      <td>0.003316</td>\n",
       "      <td>41.898800</td>\n",
       "      <td>0.048878</td>\n",
       "      <td>0.009908</td>\n",
       "      <td>0.793554</td>\n",
       "      <td>0.811371</td>\n",
       "      <td>1939.193964</td>\n",
       "    </tr>\n",
       "    <tr>\n",
       "      <th>max</th>\n",
       "      <td>775.687000</td>\n",
       "      <td>0.000744</td>\n",
       "      <td>0.003558</td>\n",
       "      <td>2658.810000</td>\n",
       "      <td>0.123100</td>\n",
       "      <td>0.775687</td>\n",
       "      <td>1.003659</td>\n",
       "      <td>1.574040</td>\n",
       "      <td>4883.890031</td>\n",
       "    </tr>\n",
       "  </tbody>\n",
       "</table>\n",
       "</div>"
      ],
      "text/plain": [
       "            dUxdz         nut           k        omega        yref  \\\n",
       "count  103.000000  103.000000  103.000000   103.000000  103.000000   \n",
       "mean    40.209824    0.000337    0.002903   142.252042    0.031412   \n",
       "std    133.486644    0.000256    0.000467   446.894828    0.033369   \n",
       "min      0.000000    0.000001    0.001803     2.424150    0.000000   \n",
       "25%      1.411035    0.000071    0.002588     5.940130    0.005089   \n",
       "50%      1.568300    0.000333    0.002910     9.569940    0.017960   \n",
       "75%      9.908490    0.000584    0.003316    41.898800    0.048878   \n",
       "max    775.687000    0.000744    0.003558  2658.810000    0.123100   \n",
       "\n",
       "           mududy  rhonutdudy   nueffdudy        yplus  \n",
       "count  103.000000  103.000000  103.000000   103.000000  \n",
       "mean     0.040210    0.649638    0.689848  1246.254544  \n",
       "std      0.133487    0.188414    0.265682  1323.873609  \n",
       "min      0.000000    0.000000    0.000000     0.000000  \n",
       "25%      0.001411    0.541854    0.544008   201.915725  \n",
       "50%      0.001568    0.679777    0.687692   712.536148  \n",
       "75%      0.009908    0.793554    0.811371  1939.193964  \n",
       "max      0.775687    1.003659    1.574040  4883.890031  "
      ]
     },
     "execution_count": 70,
     "metadata": {},
     "output_type": "execute_result"
    }
   ],
   "source": [
    "flow.describe()"
   ]
  },
  {
   "cell_type": "code",
   "execution_count": 75,
   "metadata": {},
   "outputs": [
    {
     "data": {
      "text/plain": [
       "Text(0, 0.5, '$y^+$')"
      ]
     },
     "execution_count": 75,
     "metadata": {},
     "output_type": "execute_result"
    },
    {
     "data": {
      "image/png": "[encoded data removed]",
      "text/plain": [
       "<Figure size 432x288 with 1 Axes>"
      ]
     },
     "metadata": {},
     "output_type": "display_data"
    }
   ],
   "source": [
    "plt.plot(flow.mududy, flow.yplus, 'o-')\n",
    "plt.plot(flow.rhonutdudy, flow.yplus)\n",
    "plt.plot(flow.nueffdudy, flow.yplus)\n",
    "\n",
    "plt.ylim([0., 125.])\n",
    "plt.xlabel('$\\\\tau$ ($N/m^2$)')\n",
    "plt.ylabel('$y^+$')"
   ]
  },
  {
   "cell_type": "code",
   "execution_count": 77,
   "metadata": {},
   "outputs": [
    {
     "data": {
      "text/plain": [
       "Text(0, 0.5, '$y^+$')"
      ]
     },
     "execution_count": 77,
     "metadata": {},
     "output_type": "execute_result"
    },
    {
     "data": {
      "image/png": "[encoded data removed]",
      "text/plain": [
       "<Figure size 432x288 with 1 Axes>"
      ]
     },
     "metadata": {},
     "output_type": "display_data"
    }
   ],
   "source": [
    "plt.semilogy(flow.mududy, flow.yplus, 'o-')\n",
    "plt.semilogy(flow.rhonutdudy, flow.yplus, 'o-')\n",
    "plt.semilogy(flow.nueffdudy, flow.yplus, 'o-')\n",
    "\n",
    "plt.ylim([0., 125.])\n",
    "plt.xlabel('$\\\\tau$ ($N/m^2$)')\n",
    "plt.ylabel('$y^+$')"
   ]
  },
  {
   "cell_type": "code",
   "execution_count": 68,
   "metadata": {},
   "outputs": [
    {
     "data": {
      "text/plain": [
       "1.57403957414"
      ]
     },
     "execution_count": 68,
     "metadata": {},
     "output_type": "execute_result"
    }
   ],
   "source": [
    "flow.iloc[0].nueffdudyd"
   ]
  },
  {
   "cell_type": "code",
   "execution_count": 78,
   "metadata": {},
   "outputs": [
    {
     "data": {
      "text/plain": [
       "0.076900       0.000000\n",
       "0.076936       1.420335\n",
       "0.076972       2.840670\n",
       "0.077043       5.681341\n",
       "0.077191      11.561052\n",
       "0.077345      17.647070\n",
       "0.077504      23.943360\n",
       "0.077668      30.461826\n",
       "0.077838      37.206434\n",
       "0.078014      44.189088\n",
       "0.078196      51.413754\n",
       "0.078384      58.892334\n",
       "0.078579      66.628797\n",
       "0.078781      74.639011\n",
       "0.078990      82.930913\n",
       "0.079206      91.508468\n",
       "0.079430     100.387546\n",
       "0.079662     109.580051\n",
       "0.079902     119.089949\n",
       "0.080150     128.933110\n",
       "0.080407     139.121436\n",
       "0.080672     149.662862\n",
       "0.080947     160.577226\n",
       "0.081232     171.868494\n",
       "0.081527     183.560471\n",
       "0.081832     195.657125\n",
       "0.082147     208.174325\n",
       "0.082474     221.131908\n",
       "0.082812     234.541777\n",
       "0.083161     248.419800\n",
       "               ...     \n",
       "0.119769    1700.791891\n",
       "0.121411    1765.936874\n",
       "0.123110    1833.343284\n",
       "0.124868    1903.090471\n",
       "0.126688    1975.297456\n",
       "0.128571    2050.003914\n",
       "0.130521    2127.368540\n",
       "0.132538    2207.391336\n",
       "0.134626    2290.230998\n",
       "0.136787    2375.966875\n",
       "0.139023    2464.678313\n",
       "0.141338    2556.524011\n",
       "0.143733    2651.543643\n",
       "0.146212    2749.895904\n",
       "0.148778    2851.699818\n",
       "0.151434    2957.074407\n",
       "0.154182    3066.099020\n",
       "0.157026    3178.932352\n",
       "0.159970    3295.733102\n",
       "0.163017    3416.620291\n",
       "0.166170    3541.712941\n",
       "0.169433    3671.169750\n",
       "0.172811    3805.189088\n",
       "0.176306    3943.850304\n",
       "0.179924    4087.391442\n",
       "0.183668    4235.931525\n",
       "0.187543    4389.668925\n",
       "0.191554    4548.802011\n",
       "0.195704    4713.449807\n",
       "0.200000    4883.890031\n",
       "Name: yplus, Length: 103, dtype: float64"
      ]
     },
     "execution_count": 78,
     "metadata": {},
     "output_type": "execute_result"
    }
   ],
   "source": [
    "flow.yplus"
   ]
  },
  {
   "cell_type": "code",
   "execution_count": 79,
   "metadata": {},
   "outputs": [
    {
     "data": {
      "text/plain": [
       "0.121061"
      ]
     },
     "execution_count": 79,
     "metadata": {},
     "output_type": "execute_result"
    }
   ],
   "source": [
    "0.000121061 * 1000."
   ]
  },
  {
   "cell_type": "code",
   "execution_count": null,
   "metadata": {},
   "outputs": [],
   "source": []
  }
 ],
 "metadata": {
  "kernelspec": {
   "display_name": "Python 3",
   "language": "python",
   "name": "python3"
  },
  "language_info": {
   "codemirror_mode": {
    "name": "ipython",
    "version": 3
   },
   "file_extension": ".py",
   "mimetype": "text/x-python",
   "name": "python",
   "nbconvert_exporter": "python",
   "pygments_lexer": "ipython3",
   "version": "3.5.2"
  }
 },
 "nbformat": 4,
 "nbformat_minor": 2
}
